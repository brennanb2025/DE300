{
 "cells": [
  {
   "cell_type": "code",
   "execution_count": 16,
   "id": "a5e92978-f229-419b-b2c3-7345974b5e6a",
   "metadata": {
    "scrolled": true
   },
   "outputs": [],
   "source": [
    "# Loading required package\n",
    "#!pip install boto3\n",
    "import boto3\n",
    "from io import BytesIO\n",
    "import pandas as pd"
   ]
  },
  {
   "cell_type": "code",
   "execution_count": 17,
   "id": "c1e65f52-77ec-4303-ad9f-1e3a014a1a91",
   "metadata": {},
   "outputs": [],
   "source": [
    "# you need to change the credentials for yourself\n",
    "\n",
    "bucket_name = 'de300spring2024'\n",
    "object_key = 'brennan_benson/sample_dataset.csv'"
   ]
  },
  {
   "cell_type": "code",
   "execution_count": 18,
   "id": "56cb6c58-3dab-47d2-ac78-5ea50e724522",
   "metadata": {},
   "outputs": [],
   "source": [
    "csv_obj = s3.get_object(Bucket=bucket_name, Key=object_key)\n",
    "body = csv_obj['Body']\n",
    "csv_string = body.read().decode('utf-8')"
   ]
  },
  {
   "cell_type": "code",
   "execution_count": 19,
   "id": "25cd5fc7-e3f7-4c7c-9c27-579a4b73c3f6",
   "metadata": {},
   "outputs": [
    {
     "name": "stdout",
     "output_type": "stream",
     "text": [
      "   ID           Name  Age         City\n",
      "0   1       John Doe   28     New York\n",
      "1   2     Jane Smith   32  Los Angeles\n",
      "2   3    Emily Davis   45      Chicago\n",
      "3   4  Michael Brown   22        Miami\n"
     ]
    }
   ],
   "source": [
    "df = pd.read_csv(BytesIO(csv_string.encode()))\n",
    "print(df.head())"
   ]
  },
  {
   "cell_type": "code",
   "execution_count": null,
   "id": "a7e65126-6972-40dd-ab45-6a546c80019c",
   "metadata": {},
   "outputs": [],
   "source": []
  }
 ],
 "metadata": {
  "kernelspec": {
   "display_name": "Python 3 (ipykernel)",
   "language": "python",
   "name": "python3"
  },
  "language_info": {
   "codemirror_mode": {
    "name": "ipython",
    "version": 3
   },
   "file_extension": ".py",
   "mimetype": "text/x-python",
   "name": "python",
   "nbconvert_exporter": "python",
   "pygments_lexer": "ipython3",
   "version": "3.11.6"
  }
 },
 "nbformat": 4,
 "nbformat_minor": 5
}
