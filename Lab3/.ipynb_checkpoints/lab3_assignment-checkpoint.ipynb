{
 "cells": [
  {
   "cell_type": "markdown",
   "id": "90b40f10-90a1-4920-a4d0-04e90ebe778a",
   "metadata": {},
   "source": [
    "# Lab3 Assignment"
   ]
  },
  {
   "cell_type": "code",
   "execution_count": 2,
   "id": "c71b0e2c-73d5-41e2-996a-2355879f1ec1",
   "metadata": {},
   "outputs": [],
   "source": [
    "# write code to load ariline the data "
   ]
  },
  {
   "cell_type": "code",
   "execution_count": 1,
   "id": "f17ca97d-6bad-4832-aca9-1ba5e8f0d756",
   "metadata": {},
   "outputs": [],
   "source": [
    "#!pip install boto3\n",
    "\n",
    "import boto3\n",
    "from io import BytesIO\n",
    "import pandas as pd\n",
    "\n",
    "# you need to change the credentials for yourself\n",
    "\n",
    "bucket_name = 'de300spring2024'\n",
    "# object_key = 'brennan_benson/sample_dataset.csv'\n",
    "object_key = 'robert_su/On_Time_Reporting_Carrier_On_Time_Performance_2019_1.csv'"
   ]
  },
  {
   "cell_type": "code",
   "execution_count": null,
   "id": "5c02d72b-0562-4f49-83d1-71d8f77324d1",
   "metadata": {},
   "outputs": [],
   "source": [
    "# load csv\n",
    "print(\"Getting object\")\n",
    "csv_obj = s3.get_object(Bucket=bucket_name, Key=object_key)\n",
    "body = csv_obj['Body']\n",
    "csv_string = body.read().decode('utf-8')\n",
    "print(\"loaded\")"
   ]
  },
  {
   "cell_type": "code",
   "execution_count": null,
   "id": "8dacd49d-f92e-4905-8954-8eec46f38f5b",
   "metadata": {},
   "outputs": [],
   "source": [
    "# load dataframe\n",
    "df = pd.read_csv(BytesIO(csv_string.encode()))"
   ]
  },
  {
   "cell_type": "markdown",
   "id": "2f1b1fdf-3277-4097-bb0d-b8d1d3eb18d8",
   "metadata": {},
   "source": [
    "## Please read the variable info at 'readme.html', choose at least two sets of variables to analyze including but not limited to, showing their basic statistic and visualization.\n",
    "\n",
    "## Brief explain what you found. For example, you can show correlation between several variables and explain why their relation make sense,  or discover skewness, outlier etc for certain variables. "
   ]
  },
  {
   "cell_type": "code",
   "execution_count": null,
   "id": "a732b12d-3ced-4a9a-88b0-69eb69053bd3",
   "metadata": {},
   "outputs": [],
   "source": [
    "print(df.head())"
   ]
  },
  {
   "cell_type": "code",
   "execution_count": null,
   "id": "5798494b-a238-4980-b9cd-d296cc22b4ec",
   "metadata": {},
   "outputs": [],
   "source": []
  },
  {
   "cell_type": "code",
   "execution_count": null,
   "id": "89a7d09a-0918-4408-98f3-ae6e63d606e7",
   "metadata": {},
   "outputs": [],
   "source": []
  }
 ],
 "metadata": {
  "kernelspec": {
   "display_name": "Python 3 (ipykernel)",
   "language": "python",
   "name": "python3"
  },
  "language_info": {
   "codemirror_mode": {
    "name": "ipython",
    "version": 3
   },
   "file_extension": ".py",
   "mimetype": "text/x-python",
   "name": "python",
   "nbconvert_exporter": "python",
   "pygments_lexer": "ipython3",
   "version": "3.11.6"
  }
 },
 "nbformat": 4,
 "nbformat_minor": 5
}
